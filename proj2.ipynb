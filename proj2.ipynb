{
 "cells": [
  {
   "cell_type": "code",
   "execution_count": 1,
   "metadata": {},
   "outputs": [
    {
     "name": "stderr",
     "output_type": "stream",
     "text": [
      "C:\\Users\\dguse\\anaconda3\\lib\\site-packages\\numpy\\_distributor_init.py:30: UserWarning: loaded more than 1 DLL from .libs:\n",
      "C:\\Users\\dguse\\anaconda3\\lib\\site-packages\\numpy\\.libs\\libopenblas.FB5AE2TYXYH2IJRDKGDGQ3XBKLKTF43H.gfortran-win_amd64.dll\n",
      "C:\\Users\\dguse\\anaconda3\\lib\\site-packages\\numpy\\.libs\\libopenblas.GK7GX5KEQ4F6UYO3P26ULGBQYHGQO7J4.gfortran-win_amd64.dll\n",
      "  warnings.warn(\"loaded more than 1 DLL from .libs:\"\n"
     ]
    }
   ],
   "source": [
    "import numpy as np\n",
    "import pandas as pd\n",
    "import matplotlib.pyplot as plt\n",
    "import warnings\n",
    "warnings.filterwarnings('ignore')"
   ]
  },
  {
   "cell_type": "markdown",
   "metadata": {},
   "source": [
    "Let's try to replicate the [Cbonds USA Corporate Index](https://cbonds.ru/download/indexdocs/indexdescrs/1230) based on the prices of bonds ever included there"
   ]
  },
  {
   "cell_type": "markdown",
   "metadata": {},
   "source": [
    "## 0. Data loading and preparation"
   ]
  },
  {
   "cell_type": "code",
   "execution_count": 2,
   "metadata": {},
   "outputs": [
    {
     "data": {
      "text/html": [
       "<div>\n",
       "<style scoped>\n",
       "    .dataframe tbody tr th:only-of-type {\n",
       "        vertical-align: middle;\n",
       "    }\n",
       "\n",
       "    .dataframe tbody tr th {\n",
       "        vertical-align: top;\n",
       "    }\n",
       "\n",
       "    .dataframe thead th {\n",
       "        text-align: right;\n",
       "    }\n",
       "</style>\n",
       "<table border=\"1\" class=\"dataframe\">\n",
       "  <thead>\n",
       "    <tr style=\"text-align: right;\">\n",
       "      <th></th>\n",
       "      <th>Index Structure Date</th>\n",
       "      <th>Issue name</th>\n",
       "      <th>ISIN</th>\n",
       "      <th>Issue amount, USDmn</th>\n",
       "      <th>Issue currency</th>\n",
       "      <th>Maturity date</th>\n",
       "    </tr>\n",
       "  </thead>\n",
       "  <tbody>\n",
       "    <tr>\n",
       "      <th>0</th>\n",
       "      <td>2023-04-01</td>\n",
       "      <td>AT&amp;T Inc, 1.65% 1feb2028, USD</td>\n",
       "      <td>US00206RKG64</td>\n",
       "      <td>2250.000</td>\n",
       "      <td>USD</td>\n",
       "      <td>2028-02-01 00:00:00</td>\n",
       "    </tr>\n",
       "    <tr>\n",
       "      <th>1</th>\n",
       "      <td>2023-04-01</td>\n",
       "      <td>AT&amp;T Inc, 1.7% 25mar2026, USD</td>\n",
       "      <td>US00206RML32</td>\n",
       "      <td>3000.000</td>\n",
       "      <td>USD</td>\n",
       "      <td>2026-03-25 00:00:00</td>\n",
       "    </tr>\n",
       "    <tr>\n",
       "      <th>2</th>\n",
       "      <td>2023-04-01</td>\n",
       "      <td>AT&amp;T Inc, 2.25% 1feb2032, USD</td>\n",
       "      <td>US00206RKH48</td>\n",
       "      <td>2500.000</td>\n",
       "      <td>USD</td>\n",
       "      <td>2032-02-01 00:00:00</td>\n",
       "    </tr>\n",
       "    <tr>\n",
       "      <th>3</th>\n",
       "      <td>2023-04-01</td>\n",
       "      <td>AT&amp;T Inc, 2.3% 1jun2027, USD</td>\n",
       "      <td>US00206RJX17</td>\n",
       "      <td>2500.000</td>\n",
       "      <td>USD</td>\n",
       "      <td>2027-06-01 00:00:00</td>\n",
       "    </tr>\n",
       "    <tr>\n",
       "      <th>4</th>\n",
       "      <td>2023-04-01</td>\n",
       "      <td>AT&amp;T Inc, 2.55% 1dec2033, USD</td>\n",
       "      <td>US00206RMM15</td>\n",
       "      <td>3754.161</td>\n",
       "      <td>USD</td>\n",
       "      <td>2033-12-01 00:00:00</td>\n",
       "    </tr>\n",
       "  </tbody>\n",
       "</table>\n",
       "</div>"
      ],
      "text/plain": [
       "  Index Structure Date                     Issue name          ISIN  \\\n",
       "0           2023-04-01  AT&T Inc, 1.65% 1feb2028, USD  US00206RKG64   \n",
       "1           2023-04-01  AT&T Inc, 1.7% 25mar2026, USD  US00206RML32   \n",
       "2           2023-04-01  AT&T Inc, 2.25% 1feb2032, USD  US00206RKH48   \n",
       "3           2023-04-01   AT&T Inc, 2.3% 1jun2027, USD  US00206RJX17   \n",
       "4           2023-04-01  AT&T Inc, 2.55% 1dec2033, USD  US00206RMM15   \n",
       "\n",
       "   Issue amount, USDmn Issue currency        Maturity date  \n",
       "0             2250.000            USD  2028-02-01 00:00:00  \n",
       "1             3000.000            USD  2026-03-25 00:00:00  \n",
       "2             2500.000            USD  2032-02-01 00:00:00  \n",
       "3             2500.000            USD  2027-06-01 00:00:00  \n",
       "4             3754.161            USD  2033-12-01 00:00:00  "
      ]
     },
     "execution_count": 2,
     "metadata": {},
     "output_type": "execute_result"
    }
   ],
   "source": [
    "# read index structure\n",
    "# an International Securities Identification Number (ISIN) uniquely identifies a security.\n",
    "structure = pd.read_excel(r'cbonds-usa-corporate-index.xlsx',\n",
    "                      sheet_name='structure')\n",
    "\n",
    "structure['Index Structure Date'] = pd.to_datetime(structure['Index Structure Date'], format=\"%d.%m.%Y\")\n",
    "\n",
    "structure.head()"
   ]
  },
  {
   "cell_type": "code",
   "execution_count": 3,
   "metadata": {},
   "outputs": [
    {
     "data": {
      "text/html": [
       "<div>\n",
       "<style scoped>\n",
       "    .dataframe tbody tr th:only-of-type {\n",
       "        vertical-align: middle;\n",
       "    }\n",
       "\n",
       "    .dataframe tbody tr th {\n",
       "        vertical-align: top;\n",
       "    }\n",
       "\n",
       "    .dataframe thead th {\n",
       "        text-align: right;\n",
       "    }\n",
       "</style>\n",
       "<table border=\"1\" class=\"dataframe\">\n",
       "  <thead>\n",
       "    <tr style=\"text-align: right;\">\n",
       "      <th></th>\n",
       "      <th>Trade date</th>\n",
       "      <th>Indicative price, %</th>\n",
       "      <th>ACI</th>\n",
       "      <th>ISIN</th>\n",
       "    </tr>\n",
       "  </thead>\n",
       "  <tbody>\n",
       "    <tr>\n",
       "      <th>0</th>\n",
       "      <td>2023-04-10</td>\n",
       "      <td>88.02065</td>\n",
       "      <td>6.33</td>\n",
       "      <td>US00206RKG64</td>\n",
       "    </tr>\n",
       "    <tr>\n",
       "      <th>1</th>\n",
       "      <td>2023-04-07</td>\n",
       "      <td>88.54125</td>\n",
       "      <td>6.05</td>\n",
       "      <td>US00206RKG64</td>\n",
       "    </tr>\n",
       "    <tr>\n",
       "      <th>2</th>\n",
       "      <td>2023-04-06</td>\n",
       "      <td>88.87270</td>\n",
       "      <td>5.96</td>\n",
       "      <td>US00206RKG64</td>\n",
       "    </tr>\n",
       "    <tr>\n",
       "      <th>3</th>\n",
       "      <td>2023-04-05</td>\n",
       "      <td>89.00250</td>\n",
       "      <td>5.87</td>\n",
       "      <td>US00206RKG64</td>\n",
       "    </tr>\n",
       "    <tr>\n",
       "      <th>4</th>\n",
       "      <td>2023-04-04</td>\n",
       "      <td>88.69000</td>\n",
       "      <td>5.78</td>\n",
       "      <td>US00206RKG64</td>\n",
       "    </tr>\n",
       "  </tbody>\n",
       "</table>\n",
       "</div>"
      ],
      "text/plain": [
       "  Trade date  Indicative price, %   ACI          ISIN\n",
       "0 2023-04-10             88.02065  6.33  US00206RKG64\n",
       "1 2023-04-07             88.54125  6.05  US00206RKG64\n",
       "2 2023-04-06             88.87270  5.96  US00206RKG64\n",
       "3 2023-04-05             89.00250  5.87  US00206RKG64\n",
       "4 2023-04-04             88.69000  5.78  US00206RKG64"
      ]
     },
     "execution_count": 3,
     "metadata": {},
     "output_type": "execute_result"
    }
   ],
   "source": [
    "# read bonds quotes\n",
    "quotes = pd.read_csv(r'quotes.csv',\n",
    "                     usecols=['Trade date', 'Indicative price, %', 'ISIN', 'ACI'],\n",
    "                     parse_dates=['Trade date'])\n",
    "\n",
    "\n",
    "quotes.drop_duplicates(inplace=True)\n",
    "quotes.head()"
   ]
  },
  {
   "cell_type": "code",
   "execution_count": 4,
   "metadata": {},
   "outputs": [
    {
     "data": {
      "text/plain": [
       "(739064, 4)"
      ]
     },
     "execution_count": 4,
     "metadata": {},
     "output_type": "execute_result"
    }
   ],
   "source": [
    "quotes.shape"
   ]
  },
  {
   "cell_type": "markdown",
   "metadata": {},
   "source": [
    "## 1. From net to dirty prices"
   ]
  },
  {
   "cell_type": "markdown",
   "metadata": {},
   "source": [
    "* Accrued coupon interest (ACI, Accrued Interest) is a value measured in monetary units, and characterizing the part of coupon income, which has \"accrued\" from the beginning of the coupon period\n",
    "\n",
    "* In most markets, bonds are traded at net prices (excluding ACI) and sales transactions are made at a dirty price (including ACI), which means that when the transaction price of the bond for the buyer is made up of two components: the market price and the accumulated coupon income for the relevant period\n",
    "\n",
    "![ACI](bond-price-graph-accrued-interest.svg)\n",
    "\n",
    "\n",
    "* Be careful! Many data vendors mess up their data. Bond price estimates can be distorted by short-term liquidity shortages in the markets."
   ]
  },
  {
   "cell_type": "code",
   "execution_count": 5,
   "metadata": {},
   "outputs": [],
   "source": [
    "bonds_desc = pd.read_excel(r'cbonds-usa-corporate-index.xlsx',\n",
    "                      sheet_name='bonds_desc_15.04.2023',\n",
    "                      usecols=['ISIN', 'Coupon frequency', 'Nominal / Minimum Settlement Amount'])\n",
    "\n",
    "\n",
    "# create mapping isin: nominal/settlement amount\n",
    "mapping_isin_nominal = dict(zip(bonds_desc['ISIN'], bonds_desc['Nominal / Minimum Settlement Amount']))\n",
    "mapping_isin_nominal.update\n",
    "\n",
    "# calculate ACI as % of nominal/settling amount\n",
    "quotes['ACI, %'] = quotes['ACI'] * 100 / quotes['ISIN'].map(mapping_isin_nominal)"
   ]
  },
  {
   "cell_type": "code",
   "execution_count": 6,
   "metadata": {},
   "outputs": [
    {
     "data": {
      "text/plain": [
       "26133"
      ]
     },
     "execution_count": 6,
     "metadata": {},
     "output_type": "execute_result"
    }
   ],
   "source": [
    "quotes['ACI, %'].isna().sum()"
   ]
  },
  {
   "cell_type": "code",
   "execution_count": 7,
   "metadata": {},
   "outputs": [
    {
     "data": {
      "text/html": [
       "<div>\n",
       "<style scoped>\n",
       "    .dataframe tbody tr th:only-of-type {\n",
       "        vertical-align: middle;\n",
       "    }\n",
       "\n",
       "    .dataframe tbody tr th {\n",
       "        vertical-align: top;\n",
       "    }\n",
       "\n",
       "    .dataframe thead th {\n",
       "        text-align: right;\n",
       "    }\n",
       "</style>\n",
       "<table border=\"1\" class=\"dataframe\">\n",
       "  <thead>\n",
       "    <tr style=\"text-align: right;\">\n",
       "      <th></th>\n",
       "      <th>Indicative price, %</th>\n",
       "      <th>ACI</th>\n",
       "      <th>ACI, %</th>\n",
       "    </tr>\n",
       "    <tr>\n",
       "      <th>Trade date</th>\n",
       "      <th></th>\n",
       "      <th></th>\n",
       "      <th></th>\n",
       "    </tr>\n",
       "  </thead>\n",
       "  <tbody>\n",
       "    <tr>\n",
       "      <th>2016-01-01</th>\n",
       "      <td>93.275</td>\n",
       "      <td>11.50</td>\n",
       "      <td>0.5750</td>\n",
       "    </tr>\n",
       "    <tr>\n",
       "      <th>2016-01-04</th>\n",
       "      <td>93.480</td>\n",
       "      <td>12.25</td>\n",
       "      <td>0.6125</td>\n",
       "    </tr>\n",
       "    <tr>\n",
       "      <th>2016-01-05</th>\n",
       "      <td>92.970</td>\n",
       "      <td>12.50</td>\n",
       "      <td>0.6250</td>\n",
       "    </tr>\n",
       "    <tr>\n",
       "      <th>2016-01-06</th>\n",
       "      <td>93.310</td>\n",
       "      <td>12.75</td>\n",
       "      <td>0.6375</td>\n",
       "    </tr>\n",
       "    <tr>\n",
       "      <th>2016-01-07</th>\n",
       "      <td>92.965</td>\n",
       "      <td>13.00</td>\n",
       "      <td>0.6500</td>\n",
       "    </tr>\n",
       "  </tbody>\n",
       "</table>\n",
       "</div>"
      ],
      "text/plain": [
       "            Indicative price, %    ACI  ACI, %\n",
       "Trade date                                    \n",
       "2016-01-01               93.275  11.50  0.5750\n",
       "2016-01-04               93.480  12.25  0.6125\n",
       "2016-01-05               92.970  12.50  0.6250\n",
       "2016-01-06               93.310  12.75  0.6375\n",
       "2016-01-07               92.965  13.00  0.6500"
      ]
     },
     "execution_count": 7,
     "metadata": {},
     "output_type": "execute_result"
    }
   ],
   "source": [
    "example_isin ='US00206RCP55'\n",
    "\n",
    "example = quotes.set_index(['ISIN', 'Trade date']).sort_index().loc[example_isin,:]\n",
    "example.head()"
   ]
  },
  {
   "cell_type": "code",
   "execution_count": 8,
   "metadata": {},
   "outputs": [
    {
     "data": {
      "text/plain": [
       "Text(0.5, 1.0, 'US00206RCP55 price decomposition')"
      ]
     },
     "execution_count": 8,
     "metadata": {},
     "output_type": "execute_result"
    },
    {
     "data": {
      "image/png": "[encoded data removed]",
      "text/plain": [
       "<Figure size 640x480 with 1 Axes>"
      ]
     },
     "metadata": {},
     "output_type": "display_data"
    }
   ],
   "source": [
    "example.plot()\n",
    "plt.title(f'{example_isin} price decomposition')"
   ]
  },
  {
   "cell_type": "code",
   "execution_count": 9,
   "metadata": {},
   "outputs": [],
   "source": [
    "example['ACI, %'].fillna(0, inplace=True) # filling the gaps\n",
    "coupon_event = example['ACI, %'] > example['ACI, %'].shift(-1) # time of coupon payment = zeroing of ACI\n",
    "coupons = example['ACI, %'][coupon_event] + example['ACI, %'].shift(-2)[coupon_event] # T+2 settlement\n",
    "coupon_yield = coupons / example['Indicative price, %'] # make adjustment for nominal as ACI not in % of nominal"
   ]
  },
  {
   "cell_type": "code",
   "execution_count": 10,
   "metadata": {},
   "outputs": [
    {
     "data": {
      "text/plain": [
       "Trade date\n",
       "2016-05-13    2.250\n",
       "2016-11-14    2.250\n",
       "2017-05-12    2.225\n",
       "2017-11-14    2.250\n",
       "2018-05-14    2.250\n",
       "2018-11-14    2.250\n",
       "2019-05-14    2.250\n",
       "2019-11-14    2.275\n",
       "2020-05-14    2.275\n",
       "2020-11-13    2.250\n",
       "2021-05-14    2.275\n",
       "2021-11-12    2.225\n",
       "2022-05-13    2.250\n",
       "2022-11-14    2.250\n",
       "Name: ACI, %, dtype: float64"
      ]
     },
     "execution_count": 10,
     "metadata": {},
     "output_type": "execute_result"
    }
   ],
   "source": [
    "coupons"
   ]
  },
  {
   "cell_type": "code",
   "execution_count": 11,
   "metadata": {},
   "outputs": [
    {
     "data": {
      "text/plain": [
       "<matplotlib.legend.Legend at 0x1fbfab777c0>"
      ]
     },
     "execution_count": 11,
     "metadata": {},
     "output_type": "execute_result"
    },
    {
     "data": {
      "image/png": "[encoded data removed]",
      "text/plain": [
       "<Figure size 640x480 with 1 Axes>"
      ]
     },
     "metadata": {},
     "output_type": "display_data"
    }
   ],
   "source": [
    "rets = example['Indicative price, %'].pct_change().fillna(0) + coupon_yield.fillna(0)\n",
    "price = pd.Series((np.ones_like(rets) + rets), index=example.index).cumprod() * example['Indicative price, %'][0]\n",
    "price = (price + example['ACI, %'][~coupon_event]).fillna(method='ffill')\n",
    "plt.plot(price, label='price + ACI + reinvested coupons')\n",
    "plt.plot(example['Indicative price, %'], label='indicative price')\n",
    "plt.title(f'{example_isin} dynamics')\n",
    "plt.legend()"
   ]
  },
  {
   "cell_type": "code",
   "execution_count": 12,
   "metadata": {},
   "outputs": [],
   "source": [
    "# wrap into function to calculate total bond return / dirty price\n",
    "\n",
    "def calc_tr(quotes):\n",
    "    '''\n",
    "    Calculates dirty prices \n",
    "    \n",
    "    Input - DataFrame,  columns: 'Trade date', 'ISIN', 'Indicative price, %', 'ACI, %'\n",
    "    Output - sorted Initial DataFrame with additional 'dirty_price' column\n",
    "    '''\n",
    "    q = quotes.copy()\n",
    "    q['dirty_price'] = np.zeros_like(q.ISIN)\n",
    "    isins = q.ISIN.unique()\n",
    "    q = q.set_index(['ISIN', 'Trade date']).sort_index()\n",
    "    \n",
    "    for isin in isins:\n",
    "        dt = q.loc[isin,:]\n",
    "        dt['ACI, %'].fillna(0, inplace=True)\n",
    "        coupon_event = dt['ACI, %'] > dt['ACI, %'].shift(-1)\n",
    "        coupons = dt['ACI, %'][coupon_event] + dt['ACI, %'].shift(-2)[coupon_event]\n",
    "        coupon_yield = coupons / dt['Indicative price, %'] # make adjustment for nominal, ACI not in % of nominal\n",
    "\n",
    "        rets = dt['Indicative price, %'].pct_change().fillna(0) + coupon_yield.fillna(0) # cbonds provides incorrect data\n",
    "        price = pd.Series((np.ones_like(rets) + rets), index=dt.index).cumprod() * dt['Indicative price, %'][0]\n",
    "        price = (price + dt['ACI, %'][~coupon_event]).fillna(method='ffill')\n",
    "        q.loc[isin,'dirty_price'] = price.values\n",
    "\n",
    "    return q"
   ]
  },
  {
   "cell_type": "markdown",
   "metadata": {},
   "source": [
    "## 2. Constructing index"
   ]
  },
  {
   "cell_type": "code",
   "execution_count": 13,
   "metadata": {},
   "outputs": [],
   "source": [
    "import vectorbt as vbt"
   ]
  },
  {
   "cell_type": "code",
   "execution_count": 14,
   "metadata": {},
   "outputs": [],
   "source": [
    "# create dataframe of dirty prices\n",
    "\n",
    "prices = calc_tr(quotes).dirty_price.unstack().T.fillna(method='ffill')"
   ]
  },
  {
   "cell_type": "code",
   "execution_count": 18,
   "metadata": {},
   "outputs": [],
   "source": [
    "# Cbonds index is weighted by outstanding amount\n",
    "\n",
    "amount = structure.groupby('Index Structure Date')['Issue amount, USDmn'].sum() # sum of outstanding value of bonds at each date\n",
    "structure['weights'] = structure.apply(lambda x: x['Issue amount, USDmn'] / amount.loc[x['Index Structure Date']], axis=1) # weights of bonds at each date\n",
    "\n",
    "# transforming to DataFrame: columns - bonds, rows - dates, values - weights\n",
    "\n",
    "w = structure[['Index Structure Date', 'ISIN', 'weights']].set_index(['Index Structure Date', 'ISIN'])\n",
    "w = w.unstack().fillna(0)\n",
    "w = w.reindex(prices.index).fillna(method='ffill')\n",
    "w = w['weights'][prices.columns]"
   ]
  },
  {
   "cell_type": "code",
   "execution_count": 19,
   "metadata": {},
   "outputs": [],
   "source": [
    "# index, that we are trying to replicate\n",
    "\n",
    "cbonds_index = pd.read_excel(r'cbonds-usa-corporate-index.xlsx',\n",
    "                      sheet_name='index_value',\n",
    "                      index_col=0)"
   ]
  },
  {
   "cell_type": "code",
   "execution_count": 20,
   "metadata": {},
   "outputs": [],
   "source": [
    "bond_pf = vbt.Portfolio.from_orders(\n",
    "    close=prices,\n",
    "    size=w,\n",
    "    size_type='targetpercent',\n",
    "    direction='longonly',\n",
    "    group_by=True,\n",
    "    cash_sharing=True\n",
    ")"
   ]
  },
  {
   "cell_type": "code",
   "execution_count": 21,
   "metadata": {},
   "outputs": [
    {
     "data": {
      "text/plain": [
       "<matplotlib.legend.Legend at 0x1fba1a8a760>"
      ]
     },
     "execution_count": 21,
     "metadata": {},
     "output_type": "execute_result"
    },
    {
     "data": {
      "image/png": "[encoded data removed]",
      "text/plain": [
       "<Figure size 640x480 with 1 Axes>"
      ]
     },
     "metadata": {},
     "output_type": "display_data"
    }
   ],
   "source": [
    "plt.plot(bond_pf.value(), label='bond_pf')\n",
    "plt.plot(cbonds_index, label='cbonds_index')\n",
    "plt.legend()"
   ]
  },
  {
   "cell_type": "code",
   "execution_count": 22,
   "metadata": {},
   "outputs": [
    {
     "data": {
      "text/plain": [
       "Text(0.5, 1.0, 'gross exposure')"
      ]
     },
     "execution_count": 22,
     "metadata": {},
     "output_type": "execute_result"
    },
    {
     "data": {
      "image/png": "[encoded data removed]",
      "text/plain": [
       "<Figure size 640x480 with 1 Axes>"
      ]
     },
     "metadata": {},
     "output_type": "display_data"
    }
   ],
   "source": [
    "# we replicated ~99% of index\n",
    "\n",
    "w.sum(axis=1).plot()\n",
    "plt.title('gross exposure')"
   ]
  },
  {
   "cell_type": "code",
   "execution_count": 23,
   "metadata": {},
   "outputs": [
    {
     "data": {
      "text/plain": [
       "Text(0.5, 1.0, 'HH index')"
      ]
     },
     "execution_count": 23,
     "metadata": {},
     "output_type": "execute_result"
    },
    {
     "data": {
      "image/png": "[encoded data removed]",
      "text/plain": [
       "<Figure size 640x480 with 1 Axes>"
      ]
     },
     "metadata": {},
     "output_type": "display_data"
    }
   ],
   "source": [
    "# calculate Herfindahl-Hirschman index to estimate portfolio concentration\n",
    "\n",
    "(w ** 2).sum(axis=1).plot()\n",
    "plt.title('HH index')"
   ]
  },
  {
   "cell_type": "code",
   "execution_count": 24,
   "metadata": {},
   "outputs": [
    {
     "data": {
      "text/plain": [
       "Timestamp('2020-03-25 00:00:00')"
      ]
     },
     "execution_count": 24,
     "metadata": {},
     "output_type": "execute_result"
    }
   ],
   "source": [
    "# time of returns max divergence is crisis time\n",
    "\n",
    "(bond_pf.value().pct_change() - cbonds_index['Cbonds USA Corporate USD Index'].pct_change()).idxmax()"
   ]
  },
  {
   "cell_type": "code",
   "execution_count": 25,
   "metadata": {},
   "outputs": [
    {
     "name": "stdout",
     "output_type": "stream",
     "text": [
      "Tracking error - 11.63%\n"
     ]
    }
   ],
   "source": [
    "# calculate tracking error\n",
    "\n",
    "tracking_error = (bond_pf.value().pct_change() - cbonds_index['Cbonds USA Corporate USD Index'].pct_change()).std() * 252 ** 0.5\n",
    "\n",
    "print('Tracking error - {:0.2f}%'.format(tracking_error*100))"
   ]
  },
  {
   "cell_type": "markdown",
   "metadata": {},
   "source": [
    "Discrepancy may be due to errors in the raw data, incomplete replication of the portfolio"
   ]
  },
  {
   "cell_type": "markdown",
   "metadata": {},
   "source": [
    "# Project 2 - Quantitative bond strategy\n",
    "\n",
    "### Task\n",
    "- Build a quantitative strategy and overtake the Cbonds Corporate USD Index by Sharpe Ratio on backtest\n",
    "- Use any idea, any additional features and any quantitative framework you want\n",
    "- Backtesting: Sharpe & Calmar Ratios, Accumulted Return / Maximum Drawdown\n",
    "- Risk Measures: Calculate 5% VaR using PCA and backtest it\n",
    "- Diversification Measures: Calculate dynamics of Herfindahl-Hirschman Index and Intra-portfolio correlation (IPC), compare it to Cbonds Index\n",
    "- Save all your backtest attempts and calculate the probability of backtest overfitting. Would you trust your results?\n",
    "- Results: Jupyter Notebook with detailed comments and docstrings where applicable. **Please describe in the beginning of the file the methodology you used!**\n",
    "- Deadline: 31.03.2024 23:59 MSK. Please send you code to igor.evsin@squants.education\n",
    "\n",
    "### Data\n",
    "- Data Frame: 2016-2021 – training + validation (if applicable), 2022-today – testing\n",
    "- Dataset: see attached to this notebook\n",
    "- Transaction cost: 0,1% per trade, no fixed costs\n",
    "\n",
    "### Limits on backtest\n",
    "- Initial Capital: mn$20\n",
    "- Total return > 0\n",
    "- Max Drawdown: < 10%\n",
    "- Max Drawdown Period: < 3M\n",
    "- No leverage\n",
    "- Execution: Next Open price\n",
    "\n",
    "### Grading\n",
    "- Try to write code elegantly - points will be taken off for shitty coding.\n",
    "- Vectorize calculations! (we will take points off for reckless use of loops)\n",
    "- Points will be deducted for breaking backtest limits\n",
    "- Points will be deducted for having biases in the backtest\n",
    "- Those who get a Sharpe 2x< on the backtest without obvious biases will get extra points"
   ]
  },
  {
   "cell_type": "markdown",
   "metadata": {},
   "source": []
  },
  {
   "cell_type": "markdown",
   "metadata": {},
   "source": [
    "# Section 1. Creating a strategy"
   ]
  },
  {
   "cell_type": "markdown",
   "metadata": {},
   "source": [
    "### Uploading data"
   ]
  },
  {
   "cell_type": "code",
   "execution_count": 192,
   "metadata": {},
   "outputs": [],
   "source": [
    "import warnings\n",
    "warnings.filterwarnings(\"ignore\")"
   ]
  },
  {
   "cell_type": "code",
   "execution_count": 33,
   "metadata": {},
   "outputs": [],
   "source": [
    "import quandl\n",
    "quandl.ApiConfig.api_key = 'X_FYbmsz5eLDV6zapCRY'"
   ]
  },
  {
   "cell_type": "code",
   "execution_count": 111,
   "metadata": {},
   "outputs": [
    {
     "data": {
      "text/html": [
       "<div>\n",
       "<style scoped>\n",
       "    .dataframe tbody tr th:only-of-type {\n",
       "        vertical-align: middle;\n",
       "    }\n",
       "\n",
       "    .dataframe tbody tr th {\n",
       "        vertical-align: top;\n",
       "    }\n",
       "\n",
       "    .dataframe thead th {\n",
       "        text-align: right;\n",
       "    }\n",
       "</style>\n",
       "<table border=\"1\" class=\"dataframe\">\n",
       "  <thead>\n",
       "    <tr style=\"text-align: right;\">\n",
       "      <th></th>\n",
       "      <th>0.5</th>\n",
       "      <th>1.0</th>\n",
       "      <th>1.5</th>\n",
       "      <th>2.0</th>\n",
       "      <th>2.5</th>\n",
       "      <th>3.0</th>\n",
       "      <th>3.5</th>\n",
       "      <th>4.0</th>\n",
       "      <th>4.5</th>\n",
       "      <th>5.0</th>\n",
       "      <th>...</th>\n",
       "      <th>95.5</th>\n",
       "      <th>96.0</th>\n",
       "      <th>96.5</th>\n",
       "      <th>97.0</th>\n",
       "      <th>97.5</th>\n",
       "      <th>98.0</th>\n",
       "      <th>98.5</th>\n",
       "      <th>99.0</th>\n",
       "      <th>99.5</th>\n",
       "      <th>100.0</th>\n",
       "    </tr>\n",
       "    <tr>\n",
       "      <th>Month</th>\n",
       "      <th></th>\n",
       "      <th></th>\n",
       "      <th></th>\n",
       "      <th></th>\n",
       "      <th></th>\n",
       "      <th></th>\n",
       "      <th></th>\n",
       "      <th></th>\n",
       "      <th></th>\n",
       "      <th></th>\n",
       "      <th></th>\n",
       "      <th></th>\n",
       "      <th></th>\n",
       "      <th></th>\n",
       "      <th></th>\n",
       "      <th></th>\n",
       "      <th></th>\n",
       "      <th></th>\n",
       "      <th></th>\n",
       "      <th></th>\n",
       "      <th></th>\n",
       "    </tr>\n",
       "  </thead>\n",
       "  <tbody>\n",
       "    <tr>\n",
       "      <th>1984-01-31</th>\n",
       "      <td>11.02</td>\n",
       "      <td>11.14</td>\n",
       "      <td>11.26</td>\n",
       "      <td>11.38</td>\n",
       "      <td>11.49</td>\n",
       "      <td>11.61</td>\n",
       "      <td>11.73</td>\n",
       "      <td>11.85</td>\n",
       "      <td>11.97</td>\n",
       "      <td>12.09</td>\n",
       "      <td>...</td>\n",
       "      <td>8.41</td>\n",
       "      <td>8.41</td>\n",
       "      <td>8.41</td>\n",
       "      <td>8.40</td>\n",
       "      <td>8.40</td>\n",
       "      <td>8.40</td>\n",
       "      <td>8.39</td>\n",
       "      <td>8.39</td>\n",
       "      <td>8.38</td>\n",
       "      <td>8.38</td>\n",
       "    </tr>\n",
       "    <tr>\n",
       "      <th>1984-02-29</th>\n",
       "      <td>11.00</td>\n",
       "      <td>11.13</td>\n",
       "      <td>11.27</td>\n",
       "      <td>11.42</td>\n",
       "      <td>11.57</td>\n",
       "      <td>11.73</td>\n",
       "      <td>11.89</td>\n",
       "      <td>12.04</td>\n",
       "      <td>12.17</td>\n",
       "      <td>12.29</td>\n",
       "      <td>...</td>\n",
       "      <td>10.25</td>\n",
       "      <td>10.25</td>\n",
       "      <td>10.25</td>\n",
       "      <td>10.25</td>\n",
       "      <td>10.24</td>\n",
       "      <td>10.24</td>\n",
       "      <td>10.24</td>\n",
       "      <td>10.24</td>\n",
       "      <td>10.24</td>\n",
       "      <td>10.23</td>\n",
       "    </tr>\n",
       "    <tr>\n",
       "      <th>1984-03-31</th>\n",
       "      <td>12.32</td>\n",
       "      <td>12.08</td>\n",
       "      <td>11.91</td>\n",
       "      <td>11.85</td>\n",
       "      <td>11.89</td>\n",
       "      <td>12.01</td>\n",
       "      <td>12.17</td>\n",
       "      <td>12.33</td>\n",
       "      <td>12.49</td>\n",
       "      <td>12.63</td>\n",
       "      <td>...</td>\n",
       "      <td>10.64</td>\n",
       "      <td>10.64</td>\n",
       "      <td>10.63</td>\n",
       "      <td>10.63</td>\n",
       "      <td>10.63</td>\n",
       "      <td>10.63</td>\n",
       "      <td>10.63</td>\n",
       "      <td>10.62</td>\n",
       "      <td>10.62</td>\n",
       "      <td>10.62</td>\n",
       "    </tr>\n",
       "    <tr>\n",
       "      <th>1984-04-30</th>\n",
       "      <td>12.55</td>\n",
       "      <td>12.33</td>\n",
       "      <td>12.19</td>\n",
       "      <td>12.15</td>\n",
       "      <td>12.21</td>\n",
       "      <td>12.35</td>\n",
       "      <td>12.52</td>\n",
       "      <td>12.69</td>\n",
       "      <td>12.84</td>\n",
       "      <td>12.98</td>\n",
       "      <td>...</td>\n",
       "      <td>10.98</td>\n",
       "      <td>10.98</td>\n",
       "      <td>10.98</td>\n",
       "      <td>10.98</td>\n",
       "      <td>10.98</td>\n",
       "      <td>10.97</td>\n",
       "      <td>10.97</td>\n",
       "      <td>10.97</td>\n",
       "      <td>10.97</td>\n",
       "      <td>10.97</td>\n",
       "    </tr>\n",
       "    <tr>\n",
       "      <th>1984-05-31</th>\n",
       "      <td>13.48</td>\n",
       "      <td>13.14</td>\n",
       "      <td>12.89</td>\n",
       "      <td>12.80</td>\n",
       "      <td>12.86</td>\n",
       "      <td>13.02</td>\n",
       "      <td>13.22</td>\n",
       "      <td>13.42</td>\n",
       "      <td>13.59</td>\n",
       "      <td>13.72</td>\n",
       "      <td>...</td>\n",
       "      <td>12.13</td>\n",
       "      <td>12.13</td>\n",
       "      <td>12.13</td>\n",
       "      <td>12.13</td>\n",
       "      <td>12.13</td>\n",
       "      <td>12.13</td>\n",
       "      <td>12.13</td>\n",
       "      <td>12.13</td>\n",
       "      <td>12.13</td>\n",
       "      <td>12.13</td>\n",
       "    </tr>\n",
       "  </tbody>\n",
       "</table>\n",
       "<p>5 rows × 200 columns</p>\n",
       "</div>"
      ],
      "text/plain": [
       "              0.5    1.0    1.5    2.0    2.5    3.0    3.5    4.0    4.5  \\\n",
       "Month                                                                       \n",
       "1984-01-31  11.02  11.14  11.26  11.38  11.49  11.61  11.73  11.85  11.97   \n",
       "1984-02-29  11.00  11.13  11.27  11.42  11.57  11.73  11.89  12.04  12.17   \n",
       "1984-03-31  12.32  12.08  11.91  11.85  11.89  12.01  12.17  12.33  12.49   \n",
       "1984-04-30  12.55  12.33  12.19  12.15  12.21  12.35  12.52  12.69  12.84   \n",
       "1984-05-31  13.48  13.14  12.89  12.80  12.86  13.02  13.22  13.42  13.59   \n",
       "\n",
       "              5.0  ...   95.5   96.0   96.5   97.0   97.5   98.0   98.5  \\\n",
       "Month              ...                                                    \n",
       "1984-01-31  12.09  ...   8.41   8.41   8.41   8.40   8.40   8.40   8.39   \n",
       "1984-02-29  12.29  ...  10.25  10.25  10.25  10.25  10.24  10.24  10.24   \n",
       "1984-03-31  12.63  ...  10.64  10.64  10.63  10.63  10.63  10.63  10.63   \n",
       "1984-04-30  12.98  ...  10.98  10.98  10.98  10.98  10.98  10.97  10.97   \n",
       "1984-05-31  13.72  ...  12.13  12.13  12.13  12.13  12.13  12.13  12.13   \n",
       "\n",
       "             99.0   99.5  100.0  \n",
       "Month                            \n",
       "1984-01-31   8.39   8.38   8.38  \n",
       "1984-02-29  10.24  10.24  10.23  \n",
       "1984-03-31  10.62  10.62  10.62  \n",
       "1984-04-30  10.97  10.97  10.97  \n",
       "1984-05-31  12.13  12.13  12.13  \n",
       "\n",
       "[5 rows x 200 columns]"
      ]
     },
     "execution_count": 111,
     "metadata": {},
     "output_type": "execute_result"
    }
   ],
   "source": [
    "rates = quandl.get(\"USTREASURY/HQMYC\")\n",
    "\n",
    "# rates = pd.read_csv('rates.csv', index_col='Month')\n",
    "\n",
    "rates.head()"
   ]
  },
  {
   "cell_type": "code",
   "execution_count": 168,
   "metadata": {},
   "outputs": [],
   "source": [
    "rates_copy = rates.copy()"
   ]
  },
  {
   "cell_type": "code",
   "execution_count": 169,
   "metadata": {},
   "outputs": [],
   "source": [
    "yields_filtered = rates_copy[[\"1.0\",\"2.0\", \"5.0\",\"8.0\", \"10.0\", \"15.0\"]] * 0.01"
   ]
  },
  {
   "cell_type": "markdown",
   "metadata": {},
   "source": [
    "### Calculating bond prices for the given maturities (Assume that they are all zero-coupon bonds)"
   ]
  },
  {
   "cell_type": "code",
   "execution_count": 170,
   "metadata": {},
   "outputs": [],
   "source": [
    "for column in rates_copy.columns:\n",
    "    rates_copy[column] = 100/(1+rates_copy[column].values * 0.01)**float(column)"
   ]
  },
  {
   "cell_type": "code",
   "execution_count": 171,
   "metadata": {},
   "outputs": [
    {
     "data": {
      "text/html": [
       "<div>\n",
       "<style scoped>\n",
       "    .dataframe tbody tr th:only-of-type {\n",
       "        vertical-align: middle;\n",
       "    }\n",
       "\n",
       "    .dataframe tbody tr th {\n",
       "        vertical-align: top;\n",
       "    }\n",
       "\n",
       "    .dataframe thead th {\n",
       "        text-align: right;\n",
       "    }\n",
       "</style>\n",
       "<table border=\"1\" class=\"dataframe\">\n",
       "  <thead>\n",
       "    <tr style=\"text-align: right;\">\n",
       "      <th></th>\n",
       "      <th>0.5</th>\n",
       "      <th>1.0</th>\n",
       "      <th>1.5</th>\n",
       "      <th>2.0</th>\n",
       "      <th>2.5</th>\n",
       "      <th>3.0</th>\n",
       "      <th>3.5</th>\n",
       "      <th>4.0</th>\n",
       "      <th>4.5</th>\n",
       "      <th>5.0</th>\n",
       "      <th>...</th>\n",
       "      <th>95.5</th>\n",
       "      <th>96.0</th>\n",
       "      <th>96.5</th>\n",
       "      <th>97.0</th>\n",
       "      <th>97.5</th>\n",
       "      <th>98.0</th>\n",
       "      <th>98.5</th>\n",
       "      <th>99.0</th>\n",
       "      <th>99.5</th>\n",
       "      <th>100.0</th>\n",
       "    </tr>\n",
       "    <tr>\n",
       "      <th>Month</th>\n",
       "      <th></th>\n",
       "      <th></th>\n",
       "      <th></th>\n",
       "      <th></th>\n",
       "      <th></th>\n",
       "      <th></th>\n",
       "      <th></th>\n",
       "      <th></th>\n",
       "      <th></th>\n",
       "      <th></th>\n",
       "      <th></th>\n",
       "      <th></th>\n",
       "      <th></th>\n",
       "      <th></th>\n",
       "      <th></th>\n",
       "      <th></th>\n",
       "      <th></th>\n",
       "      <th></th>\n",
       "      <th></th>\n",
       "      <th></th>\n",
       "      <th></th>\n",
       "    </tr>\n",
       "  </thead>\n",
       "  <tbody>\n",
       "    <tr>\n",
       "      <th>1984-01-31</th>\n",
       "      <td>94.907250</td>\n",
       "      <td>89.976606</td>\n",
       "      <td>85.210167</td>\n",
       "      <td>80.609379</td>\n",
       "      <td>76.192147</td>\n",
       "      <td>71.926789</td>\n",
       "      <td>67.827483</td>\n",
       "      <td>63.893407</td>\n",
       "      <td>60.123250</td>\n",
       "      <td>56.515250</td>\n",
       "      <td>...</td>\n",
       "      <td>0.044759</td>\n",
       "      <td>0.042988</td>\n",
       "      <td>0.041287</td>\n",
       "      <td>0.040009</td>\n",
       "      <td>0.038428</td>\n",
       "      <td>0.036909</td>\n",
       "      <td>0.035774</td>\n",
       "      <td>0.034361</td>\n",
       "      <td>0.033309</td>\n",
       "      <td>0.031995</td>\n",
       "    </tr>\n",
       "    <tr>\n",
       "      <th>1984-02-29</th>\n",
       "      <td>94.915800</td>\n",
       "      <td>89.984703</td>\n",
       "      <td>85.198680</td>\n",
       "      <td>80.551511</td>\n",
       "      <td>76.055639</td>\n",
       "      <td>71.695286</td>\n",
       "      <td>67.488619</td>\n",
       "      <td>63.461101</td>\n",
       "      <td>59.642352</td>\n",
       "      <td>56.013743</td>\n",
       "      <td>...</td>\n",
       "      <td>0.008971</td>\n",
       "      <td>0.008544</td>\n",
       "      <td>0.008137</td>\n",
       "      <td>0.007750</td>\n",
       "      <td>0.007446</td>\n",
       "      <td>0.007092</td>\n",
       "      <td>0.006754</td>\n",
       "      <td>0.006433</td>\n",
       "      <td>0.006127</td>\n",
       "      <td>0.005889</td>\n",
       "    </tr>\n",
       "    <tr>\n",
       "      <th>1984-03-31</th>\n",
       "      <td>94.356420</td>\n",
       "      <td>89.221984</td>\n",
       "      <td>84.468865</td>\n",
       "      <td>79.933352</td>\n",
       "      <td>75.513016</td>\n",
       "      <td>71.158963</td>\n",
       "      <td>66.900826</td>\n",
       "      <td>62.808289</td>\n",
       "      <td>58.882654</td>\n",
       "      <td>55.173379</td>\n",
       "      <td>...</td>\n",
       "      <td>0.006403</td>\n",
       "      <td>0.006087</td>\n",
       "      <td>0.005838</td>\n",
       "      <td>0.005550</td>\n",
       "      <td>0.005277</td>\n",
       "      <td>0.005017</td>\n",
       "      <td>0.004770</td>\n",
       "      <td>0.004576</td>\n",
       "      <td>0.004351</td>\n",
       "      <td>0.004137</td>\n",
       "    </tr>\n",
       "    <tr>\n",
       "      <th>1984-04-30</th>\n",
       "      <td>94.259960</td>\n",
       "      <td>89.023413</td>\n",
       "      <td>84.152840</td>\n",
       "      <td>79.506282</td>\n",
       "      <td>74.975798</td>\n",
       "      <td>70.514880</td>\n",
       "      <td>66.175307</td>\n",
       "      <td>62.009536</td>\n",
       "      <td>58.065230</td>\n",
       "      <td>54.324051</td>\n",
       "      <td>...</td>\n",
       "      <td>0.004777</td>\n",
       "      <td>0.004534</td>\n",
       "      <td>0.004304</td>\n",
       "      <td>0.004086</td>\n",
       "      <td>0.003878</td>\n",
       "      <td>0.003714</td>\n",
       "      <td>0.003526</td>\n",
       "      <td>0.003347</td>\n",
       "      <td>0.003177</td>\n",
       "      <td>0.003016</td>\n",
       "    </tr>\n",
       "    <tr>\n",
       "      <th>1984-05-31</th>\n",
       "      <td>93.872922</td>\n",
       "      <td>88.386070</td>\n",
       "      <td>83.371342</td>\n",
       "      <td>78.592626</td>\n",
       "      <td>73.900927</td>\n",
       "      <td>69.268230</td>\n",
       "      <td>64.754354</td>\n",
       "      <td>60.428446</td>\n",
       "      <td>56.359814</td>\n",
       "      <td>52.579414</td>\n",
       "      <td>...</td>\n",
       "      <td>0.001785</td>\n",
       "      <td>0.001685</td>\n",
       "      <td>0.001592</td>\n",
       "      <td>0.001503</td>\n",
       "      <td>0.001419</td>\n",
       "      <td>0.001340</td>\n",
       "      <td>0.001266</td>\n",
       "      <td>0.001195</td>\n",
       "      <td>0.001129</td>\n",
       "      <td>0.001066</td>\n",
       "    </tr>\n",
       "  </tbody>\n",
       "</table>\n",
       "<p>5 rows × 200 columns</p>\n",
       "</div>"
      ],
      "text/plain": [
       "                  0.5        1.0        1.5        2.0        2.5        3.0  \\\n",
       "Month                                                                          \n",
       "1984-01-31  94.907250  89.976606  85.210167  80.609379  76.192147  71.926789   \n",
       "1984-02-29  94.915800  89.984703  85.198680  80.551511  76.055639  71.695286   \n",
       "1984-03-31  94.356420  89.221984  84.468865  79.933352  75.513016  71.158963   \n",
       "1984-04-30  94.259960  89.023413  84.152840  79.506282  74.975798  70.514880   \n",
       "1984-05-31  93.872922  88.386070  83.371342  78.592626  73.900927  69.268230   \n",
       "\n",
       "                  3.5        4.0        4.5        5.0  ...      95.5  \\\n",
       "Month                                                   ...             \n",
       "1984-01-31  67.827483  63.893407  60.123250  56.515250  ...  0.044759   \n",
       "1984-02-29  67.488619  63.461101  59.642352  56.013743  ...  0.008971   \n",
       "1984-03-31  66.900826  62.808289  58.882654  55.173379  ...  0.006403   \n",
       "1984-04-30  66.175307  62.009536  58.065230  54.324051  ...  0.004777   \n",
       "1984-05-31  64.754354  60.428446  56.359814  52.579414  ...  0.001785   \n",
       "\n",
       "                96.0      96.5      97.0      97.5      98.0      98.5  \\\n",
       "Month                                                                    \n",
       "1984-01-31  0.042988  0.041287  0.040009  0.038428  0.036909  0.035774   \n",
       "1984-02-29  0.008544  0.008137  0.007750  0.007446  0.007092  0.006754   \n",
       "1984-03-31  0.006087  0.005838  0.005550  0.005277  0.005017  0.004770   \n",
       "1984-04-30  0.004534  0.004304  0.004086  0.003878  0.003714  0.003526   \n",
       "1984-05-31  0.001685  0.001592  0.001503  0.001419  0.001340  0.001266   \n",
       "\n",
       "                99.0      99.5     100.0  \n",
       "Month                                     \n",
       "1984-01-31  0.034361  0.033309  0.031995  \n",
       "1984-02-29  0.006433  0.006127  0.005889  \n",
       "1984-03-31  0.004576  0.004351  0.004137  \n",
       "1984-04-30  0.003347  0.003177  0.003016  \n",
       "1984-05-31  0.001195  0.001129  0.001066  \n",
       "\n",
       "[5 rows x 200 columns]"
      ]
     },
     "execution_count": 171,
     "metadata": {},
     "output_type": "execute_result"
    }
   ],
   "source": [
    "rates_copy.head()"
   ]
  },
  {
   "cell_type": "code",
   "execution_count": 172,
   "metadata": {},
   "outputs": [],
   "source": [
    "prices_filtered = rates_copy[[\"1.0\",\"2.0\", \"5.0\",\"8.0\", \"10.0\", \"15.0\"]].copy()"
   ]
  },
  {
   "cell_type": "markdown",
   "metadata": {},
   "source": [
    "### Calculating returns on the bonds"
   ]
  },
  {
   "cell_type": "code",
   "execution_count": 173,
   "metadata": {},
   "outputs": [],
   "source": [
    "rates_copy = np.log(rates_copy / rates_copy.shift(1))\n",
    "rates_copy = rates_copy.dropna()"
   ]
  },
  {
   "cell_type": "code",
   "execution_count": 174,
   "metadata": {},
   "outputs": [
    {
     "data": {
      "text/html": [
       "<div>\n",
       "<style scoped>\n",
       "    .dataframe tbody tr th:only-of-type {\n",
       "        vertical-align: middle;\n",
       "    }\n",
       "\n",
       "    .dataframe tbody tr th {\n",
       "        vertical-align: top;\n",
       "    }\n",
       "\n",
       "    .dataframe thead th {\n",
       "        text-align: right;\n",
       "    }\n",
       "</style>\n",
       "<table border=\"1\" class=\"dataframe\">\n",
       "  <thead>\n",
       "    <tr style=\"text-align: right;\">\n",
       "      <th></th>\n",
       "      <th>0.5</th>\n",
       "      <th>1.0</th>\n",
       "      <th>1.5</th>\n",
       "      <th>2.0</th>\n",
       "      <th>2.5</th>\n",
       "      <th>3.0</th>\n",
       "      <th>3.5</th>\n",
       "      <th>4.0</th>\n",
       "      <th>4.5</th>\n",
       "      <th>5.0</th>\n",
       "      <th>...</th>\n",
       "      <th>95.5</th>\n",
       "      <th>96.0</th>\n",
       "      <th>96.5</th>\n",
       "      <th>97.0</th>\n",
       "      <th>97.5</th>\n",
       "      <th>98.0</th>\n",
       "      <th>98.5</th>\n",
       "      <th>99.0</th>\n",
       "      <th>99.5</th>\n",
       "      <th>100.0</th>\n",
       "    </tr>\n",
       "    <tr>\n",
       "      <th>Month</th>\n",
       "      <th></th>\n",
       "      <th></th>\n",
       "      <th></th>\n",
       "      <th></th>\n",
       "      <th></th>\n",
       "      <th></th>\n",
       "      <th></th>\n",
       "      <th></th>\n",
       "      <th></th>\n",
       "      <th></th>\n",
       "      <th></th>\n",
       "      <th></th>\n",
       "      <th></th>\n",
       "      <th></th>\n",
       "      <th></th>\n",
       "      <th></th>\n",
       "      <th></th>\n",
       "      <th></th>\n",
       "      <th></th>\n",
       "      <th></th>\n",
       "      <th></th>\n",
       "    </tr>\n",
       "  </thead>\n",
       "  <tbody>\n",
       "    <tr>\n",
       "      <th>1984-02-29</th>\n",
       "      <td>0.000090</td>\n",
       "      <td>0.000090</td>\n",
       "      <td>-0.000135</td>\n",
       "      <td>-0.000718</td>\n",
       "      <td>-0.001793</td>\n",
       "      <td>-0.003224</td>\n",
       "      <td>-0.005008</td>\n",
       "      <td>-0.006789</td>\n",
       "      <td>-0.008031</td>\n",
       "      <td>-0.008913</td>\n",
       "      <td>...</td>\n",
       "      <td>-1.607282</td>\n",
       "      <td>-1.615697</td>\n",
       "      <td>-1.624112</td>\n",
       "      <td>-1.641475</td>\n",
       "      <td>-1.641093</td>\n",
       "      <td>-1.649508</td>\n",
       "      <td>-1.667011</td>\n",
       "      <td>-1.675473</td>\n",
       "      <td>-1.693116</td>\n",
       "      <td>-1.692552</td>\n",
       "    </tr>\n",
       "    <tr>\n",
       "      <th>1984-03-31</th>\n",
       "      <td>-0.005911</td>\n",
       "      <td>-0.008512</td>\n",
       "      <td>-0.008603</td>\n",
       "      <td>-0.007704</td>\n",
       "      <td>-0.007160</td>\n",
       "      <td>-0.007509</td>\n",
       "      <td>-0.008748</td>\n",
       "      <td>-0.010340</td>\n",
       "      <td>-0.012819</td>\n",
       "      <td>-0.015116</td>\n",
       "      <td>...</td>\n",
       "      <td>-0.337227</td>\n",
       "      <td>-0.338993</td>\n",
       "      <td>-0.332036</td>\n",
       "      <td>-0.333756</td>\n",
       "      <td>-0.344321</td>\n",
       "      <td>-0.346086</td>\n",
       "      <td>-0.347852</td>\n",
       "      <td>-0.340669</td>\n",
       "      <td>-0.342389</td>\n",
       "      <td>-0.353181</td>\n",
       "    </tr>\n",
       "    <tr>\n",
       "      <th>1984-04-30</th>\n",
       "      <td>-0.001023</td>\n",
       "      <td>-0.002228</td>\n",
       "      <td>-0.003748</td>\n",
       "      <td>-0.005357</td>\n",
       "      <td>-0.007140</td>\n",
       "      <td>-0.009093</td>\n",
       "      <td>-0.010904</td>\n",
       "      <td>-0.012799</td>\n",
       "      <td>-0.013980</td>\n",
       "      <td>-0.015514</td>\n",
       "      <td>...</td>\n",
       "      <td>-0.293024</td>\n",
       "      <td>-0.294558</td>\n",
       "      <td>-0.304815</td>\n",
       "      <td>-0.306394</td>\n",
       "      <td>-0.307974</td>\n",
       "      <td>-0.300722</td>\n",
       "      <td>-0.302257</td>\n",
       "      <td>-0.312740</td>\n",
       "      <td>-0.314319</td>\n",
       "      <td>-0.315899</td>\n",
       "    </tr>\n",
       "    <tr>\n",
       "      <th>1984-05-31</th>\n",
       "      <td>-0.004115</td>\n",
       "      <td>-0.007185</td>\n",
       "      <td>-0.009330</td>\n",
       "      <td>-0.011558</td>\n",
       "      <td>-0.014440</td>\n",
       "      <td>-0.017837</td>\n",
       "      <td>-0.021706</td>\n",
       "      <td>-0.025828</td>\n",
       "      <td>-0.029811</td>\n",
       "      <td>-0.032642</td>\n",
       "      <td>...</td>\n",
       "      <td>-0.984501</td>\n",
       "      <td>-0.989655</td>\n",
       "      <td>-0.994810</td>\n",
       "      <td>-0.999964</td>\n",
       "      <td>-1.005118</td>\n",
       "      <td>-1.019104</td>\n",
       "      <td>-1.024303</td>\n",
       "      <td>-1.029503</td>\n",
       "      <td>-1.034702</td>\n",
       "      <td>-1.039902</td>\n",
       "    </tr>\n",
       "    <tr>\n",
       "      <th>1984-06-30</th>\n",
       "      <td>-0.000484</td>\n",
       "      <td>-0.001325</td>\n",
       "      <td>-0.002788</td>\n",
       "      <td>-0.004605</td>\n",
       "      <td>-0.006858</td>\n",
       "      <td>-0.009541</td>\n",
       "      <td>-0.012652</td>\n",
       "      <td>-0.015136</td>\n",
       "      <td>-0.017397</td>\n",
       "      <td>-0.019308</td>\n",
       "      <td>...</td>\n",
       "      <td>-0.272153</td>\n",
       "      <td>-0.265040</td>\n",
       "      <td>-0.266420</td>\n",
       "      <td>-0.267801</td>\n",
       "      <td>-0.269181</td>\n",
       "      <td>-0.270562</td>\n",
       "      <td>-0.271942</td>\n",
       "      <td>-0.273323</td>\n",
       "      <td>-0.274703</td>\n",
       "      <td>-0.276083</td>\n",
       "    </tr>\n",
       "  </tbody>\n",
       "</table>\n",
       "<p>5 rows × 200 columns</p>\n",
       "</div>"
      ],
      "text/plain": [
       "                 0.5       1.0       1.5       2.0       2.5       3.0  \\\n",
       "Month                                                                    \n",
       "1984-02-29  0.000090  0.000090 -0.000135 -0.000718 -0.001793 -0.003224   \n",
       "1984-03-31 -0.005911 -0.008512 -0.008603 -0.007704 -0.007160 -0.007509   \n",
       "1984-04-30 -0.001023 -0.002228 -0.003748 -0.005357 -0.007140 -0.009093   \n",
       "1984-05-31 -0.004115 -0.007185 -0.009330 -0.011558 -0.014440 -0.017837   \n",
       "1984-06-30 -0.000484 -0.001325 -0.002788 -0.004605 -0.006858 -0.009541   \n",
       "\n",
       "                 3.5       4.0       4.5       5.0  ...      95.5      96.0  \\\n",
       "Month                                               ...                       \n",
       "1984-02-29 -0.005008 -0.006789 -0.008031 -0.008913  ... -1.607282 -1.615697   \n",
       "1984-03-31 -0.008748 -0.010340 -0.012819 -0.015116  ... -0.337227 -0.338993   \n",
       "1984-04-30 -0.010904 -0.012799 -0.013980 -0.015514  ... -0.293024 -0.294558   \n",
       "1984-05-31 -0.021706 -0.025828 -0.029811 -0.032642  ... -0.984501 -0.989655   \n",
       "1984-06-30 -0.012652 -0.015136 -0.017397 -0.019308  ... -0.272153 -0.265040   \n",
       "\n",
       "                96.5      97.0      97.5      98.0      98.5      99.0  \\\n",
       "Month                                                                    \n",
       "1984-02-29 -1.624112 -1.641475 -1.641093 -1.649508 -1.667011 -1.675473   \n",
       "1984-03-31 -0.332036 -0.333756 -0.344321 -0.346086 -0.347852 -0.340669   \n",
       "1984-04-30 -0.304815 -0.306394 -0.307974 -0.300722 -0.302257 -0.312740   \n",
       "1984-05-31 -0.994810 -0.999964 -1.005118 -1.019104 -1.024303 -1.029503   \n",
       "1984-06-30 -0.266420 -0.267801 -0.269181 -0.270562 -0.271942 -0.273323   \n",
       "\n",
       "                99.5     100.0  \n",
       "Month                           \n",
       "1984-02-29 -1.693116 -1.692552  \n",
       "1984-03-31 -0.342389 -0.353181  \n",
       "1984-04-30 -0.314319 -0.315899  \n",
       "1984-05-31 -1.034702 -1.039902  \n",
       "1984-06-30 -0.274703 -0.276083  \n",
       "\n",
       "[5 rows x 200 columns]"
      ]
     },
     "execution_count": 174,
     "metadata": {},
     "output_type": "execute_result"
    }
   ],
   "source": [
    "rates_copy.head()"
   ]
  },
  {
   "cell_type": "code",
   "execution_count": 175,
   "metadata": {},
   "outputs": [
    {
     "data": {
      "image/png": "[encoded data removed]",
      "text/plain": [
       "<Figure size 640x480 with 1 Axes>"
      ]
     },
     "metadata": {},
     "output_type": "display_data"
    }
   ],
   "source": [
    "plt.plot(rates_copy[\"0.5\"])\n",
    "None"
   ]
  },
  {
   "cell_type": "markdown",
   "metadata": {},
   "source": [
    "### Create a strategy for each maturity.\n",
    "\n",
    "#### But first it is important to pick the most liquid maturities, suitable for trading. It is generally impossible to find 100-year bonds with adequate bid-ask spreads and relevat volume traded"
   ]
  },
  {
   "cell_type": "code",
   "execution_count": 176,
   "metadata": {},
   "outputs": [],
   "source": [
    "rates_filtered = rates_copy[[\"1.0\",\"2.0\", \"5.0\",\"8.0\", \"10.0\", \"15.0\"]].copy()"
   ]
  },
  {
   "cell_type": "code",
   "execution_count": 177,
   "metadata": {},
   "outputs": [],
   "source": [
    "# Function to calculate moving averages\n",
    "def calculate_moving_average(data, maturity, window):\n",
    "    moving_average = data[maturity].rolling(window=window).mean()\n",
    "    return moving_average\n",
    "\n",
    "# Function to calculate yield spreads\n",
    "def calculate_yield_spreads(data, maturity_1, maturity_2):\n",
    "    yield_spreads = data[maturity_1] - data[maturity_2]\n",
    "    return yield_spreads\n",
    "\n",
    "def bond_trading_strategy(prices, yields, short_maturity, long_maturity, ma_window):\n",
    "    signals = pd.DataFrame(index=prices.index)\n",
    "    \n",
    "    # Calculate moving averages\n",
    "    prices['MA_' + short_maturity] = calculate_moving_average(prices, short_maturity, ma_window)\n",
    "    prices['MA_' + long_maturity] = calculate_moving_average(prices, long_maturity, ma_window)\n",
    "    \n",
    "    # Calculate yield spreads\n",
    "    yield_spreads = calculate_yield_spreads(yields, short_maturity, long_maturity)\n",
    "    \n",
    "    # Generate trading signals based on moving average crossover and yield spreads\n",
    "    signals['Signal'] = 0\n",
    "    signals.loc[prices['MA_' + short_maturity] > prices['MA_' + long_maturity], 'Signal'] = 1  # Buy signal\n",
    "    signals.loc[prices['MA_' + short_maturity] < prices['MA_' + long_maturity], 'Signal'] = -1  # Sell signal\n",
    "    signals.loc[yield_spreads > 0, 'Signal'] = 1  # Buy signal if yield spread is positive\n",
    "    signals.loc[yield_spreads < 0, 'Signal'] = -1  # Sell signal if yield spread is negative\n",
    "    \n",
    "    return signals\n",
    "\n",
    "def calculate_returns(returns, strategy_signals):\n",
    "    returns['Strategy_Return'] = returns.mean() * strategy_signals['Signal']\n",
    "    return returns"
   ]
  },
  {
   "cell_type": "code",
   "execution_count": 178,
   "metadata": {},
   "outputs": [],
   "source": [
    "# Define parameters for the trading strategy\n",
    "ma_window = 2\n",
    "\n",
    "# Iterate over all possible maturity pairs and calculate returns\n",
    "all_returns = pd.DataFrame()\n",
    "for short_maturity in yields_filtered.columns:\n",
    "    for long_maturity in yields_filtered.columns:\n",
    "        if short_maturity != long_maturity:\n",
    "            strategy_signals = bond_trading_strategy(prices_filtered, yields_filtered, short_maturity, long_maturity, ma_window)\n",
    "            returns = calculate_returns(rates_filtered[short_maturity], strategy_signals)\n",
    "            all_returns[short_maturity + \"+\" + long_maturity] = returns['Strategy_Return']\n",
    "\n",
    "# Combine returns for all maturity pairs\n",
    "all_returns['Total_Return'] = all_returns.sum(axis=1)"
   ]
  },
  {
   "cell_type": "markdown",
   "metadata": {},
   "source": [
    "### Plotting the cumulative returns"
   ]
  },
  {
   "cell_type": "code",
   "execution_count": 179,
   "metadata": {},
   "outputs": [
    {
     "data": {
      "image/png": "[encoded data removed]",
      "text/plain": [
       "<Figure size 640x480 with 1 Axes>"
      ]
     },
     "metadata": {},
     "output_type": "display_data"
    }
   ],
   "source": [
    "plt.plot((1 + all_returns['Total_Return']).cumprod() - 1 )\n",
    "None"
   ]
  },
  {
   "cell_type": "markdown",
   "metadata": {},
   "source": [
    "### Calculating cumulative returns on the given bonds without a strategy"
   ]
  },
  {
   "cell_type": "markdown",
   "metadata": {},
   "source": [
    "# Section 2. Using strategy on the test sample"
   ]
  },
  {
   "cell_type": "code",
   "execution_count": 214,
   "metadata": {},
   "outputs": [],
   "source": [
    "train = rates[(rates.index >= pd.to_datetime(\"2016-01-01\")) & (rates.index <= pd.to_datetime(\"2021-12-31\"))]\n",
    "test = rates[rates.index >= pd.to_datetime(\"2022-01-01\")]"
   ]
  },
  {
   "cell_type": "code",
   "execution_count": 215,
   "metadata": {},
   "outputs": [],
   "source": [
    "from statsmodels.tsa.arima.model import ARIMA"
   ]
  },
  {
   "cell_type": "code",
   "execution_count": 216,
   "metadata": {},
   "outputs": [],
   "source": [
    "forecasts = pd.DataFrame()\n",
    "forecasts.index = test.index\n",
    "for column in train.columns:\n",
    "    model = ARIMA(train[column], order=(0,1,0))\n",
    "    model_fit = model.fit()\n",
    "    forecasts[column] = model_fit.forecast(steps=len(test))"
   ]
  },
  {
   "cell_type": "code",
   "execution_count": 217,
   "metadata": {},
   "outputs": [],
   "source": [
    "# For test\n",
    "yields_filtered = test[[\"1.0\",\"2.0\", \"5.0\",\"8.0\", \"10.0\", \"15.0\"]].copy() * 0.01\n",
    "\n",
    "for column in test.columns:\n",
    "    test[column] = 100/(1+test[column].values * 0.01)**float(column)\n",
    "\n",
    "prices_filtered = test[[\"1.0\",\"2.0\", \"5.0\",\"8.0\", \"10.0\", \"15.0\"]].copy()\n",
    "\n",
    "test = np.log(test / test.shift(1))\n",
    "test = test.dropna()\n",
    "rates_filtered_test = test[[\"1.0\",\"2.0\", \"5.0\",\"8.0\", \"10.0\", \"15.0\"]].copy()"
   ]
  },
  {
   "cell_type": "code",
   "execution_count": 218,
   "metadata": {},
   "outputs": [],
   "source": [
    "# For the forecasts\n",
    "\n",
    "yields_filtered = forecasts[[\"1.0\",\"2.0\", \"5.0\",\"8.0\", \"10.0\", \"15.0\"]].copy() * 0.01\n",
    "\n",
    "for column in test.columns:\n",
    "    forecasts[column] = 100/(1+forecasts[column].values * 0.01)**float(column)\n",
    "\n",
    "prices_filtered = forecasts[[\"1.0\",\"2.0\", \"5.0\",\"8.0\", \"10.0\", \"15.0\"]].copy()\n",
    "\n",
    "forecasts = np.log(forecasts / forecasts.shift(1))\n",
    "forecasts = forecasts.dropna()\n",
    "rates_filtered = forecasts[[\"1.0\",\"2.0\", \"5.0\",\"8.0\", \"10.0\", \"15.0\"]].copy()"
   ]
  },
  {
   "cell_type": "code",
   "execution_count": 219,
   "metadata": {},
   "outputs": [],
   "source": [
    "# Define parameters for the trading strategy\n",
    "ma_window = 2\n",
    "\n",
    "# Iterate over all possible maturity pairs and calculate returns\n",
    "all_returns = pd.DataFrame()\n",
    "for short_maturity in yields_filtered.columns:\n",
    "    for long_maturity in yields_filtered.columns:\n",
    "        if short_maturity != long_maturity:\n",
    "            strategy_signals = bond_trading_strategy(prices_filtered, yields_filtered, short_maturity, long_maturity, ma_window)\n",
    "            returns = calculate_returns(rates_filtered_test[short_maturity], strategy_signals)\n",
    "            all_returns[short_maturity + \"+\" + long_maturity] = returns['Strategy_Return']\n",
    "\n",
    "# Combine returns for all maturity pairs\n",
    "all_returns['Total_Return'] = all_returns.sum(axis=1)"
   ]
  },
  {
   "cell_type": "code",
   "execution_count": 220,
   "metadata": {},
   "outputs": [
    {
     "data": {
      "image/png": "[encoded data removed]",
      "text/plain": [
       "<Figure size 640x480 with 1 Axes>"
      ]
     },
     "metadata": {},
     "output_type": "display_data"
    }
   ],
   "source": [
    "plt.plot(all_returns['Total_Return'])\n",
    "None"
   ]
  },
  {
   "cell_type": "code",
   "execution_count": null,
   "metadata": {},
   "outputs": [],
   "source": [
    "### The strategy was not sucessfull at all. The main dependencies of the Bond yields have been determined incorrectly. "
   ]
  }
 ],
 "metadata": {
  "kernelspec": {
   "display_name": "Python 3 (ipykernel)",
   "language": "python",
   "name": "python3"
  },
  "language_info": {
   "codemirror_mode": {
    "name": "ipython",
    "version": 3
   },
   "file_extension": ".py",
   "mimetype": "text/x-python",
   "name": "python",
   "nbconvert_exporter": "python",
   "pygments_lexer": "ipython3",
   "version": "3.9.18"
  }
 },
 "nbformat": 4,
 "nbformat_minor": 2
}
